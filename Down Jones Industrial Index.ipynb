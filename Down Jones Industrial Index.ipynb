{
 "cells": [
  {
   "cell_type": "code",
   "execution_count": null,
   "metadata": {},
   "outputs": [],
   "source": [
    "# http://archive.ics.uci.edu/ml/datasets/Dow+Jones+Index\n",
    "\n",
    "'''\n",
    "Experimenting with some data from the Down Jones index for 6 months in 2011, on each stock. \n",
    "\n",
    "Ran an ANIMA model on one of them. \n",
    "'''"
   ]
  },
  {
   "cell_type": "code",
   "execution_count": 2,
   "metadata": {},
   "outputs": [],
   "source": [
    "import pandas as pd\n"
   ]
  },
  {
   "cell_type": "code",
   "execution_count": 36,
   "metadata": {},
   "outputs": [],
   "source": [
    "filename = 'C://Users/Tim/Downloads/dow_jones_index/dow_jones_index.data'\n",
    "\n",
    "f=open(filename,\"r\")"
   ]
  },
  {
   "cell_type": "code",
   "execution_count": 37,
   "metadata": {},
   "outputs": [],
   "source": [
    "dataDF = pd.read_csv(filename)"
   ]
  },
  {
   "cell_type": "code",
   "execution_count": 38,
   "metadata": {
    "scrolled": true
   },
   "outputs": [
    {
     "data": {
      "text/html": [
       "<div>\n",
       "<style scoped>\n",
       "    .dataframe tbody tr th:only-of-type {\n",
       "        vertical-align: middle;\n",
       "    }\n",
       "\n",
       "    .dataframe tbody tr th {\n",
       "        vertical-align: top;\n",
       "    }\n",
       "\n",
       "    .dataframe thead th {\n",
       "        text-align: right;\n",
       "    }\n",
       "</style>\n",
       "<table border=\"1\" class=\"dataframe\">\n",
       "  <thead>\n",
       "    <tr style=\"text-align: right;\">\n",
       "      <th></th>\n",
       "      <th>quarter</th>\n",
       "      <th>stock</th>\n",
       "      <th>date</th>\n",
       "      <th>open</th>\n",
       "      <th>high</th>\n",
       "      <th>low</th>\n",
       "      <th>close</th>\n",
       "      <th>volume</th>\n",
       "      <th>percent_change_price</th>\n",
       "      <th>percent_change_volume_over_last_wk</th>\n",
       "      <th>previous_weeks_volume</th>\n",
       "      <th>next_weeks_open</th>\n",
       "      <th>next_weeks_close</th>\n",
       "      <th>percent_change_next_weeks_price</th>\n",
       "      <th>days_to_next_dividend</th>\n",
       "      <th>percent_return_next_dividend</th>\n",
       "    </tr>\n",
       "  </thead>\n",
       "  <tbody>\n",
       "    <tr>\n",
       "      <th>0</th>\n",
       "      <td>1</td>\n",
       "      <td>AA</td>\n",
       "      <td>1/7/2011</td>\n",
       "      <td>$15.82</td>\n",
       "      <td>$16.72</td>\n",
       "      <td>$15.78</td>\n",
       "      <td>$16.42</td>\n",
       "      <td>239655616</td>\n",
       "      <td>3.79267</td>\n",
       "      <td>NaN</td>\n",
       "      <td>NaN</td>\n",
       "      <td>$16.71</td>\n",
       "      <td>$15.97</td>\n",
       "      <td>-4.428490</td>\n",
       "      <td>26</td>\n",
       "      <td>0.182704</td>\n",
       "    </tr>\n",
       "    <tr>\n",
       "      <th>1</th>\n",
       "      <td>1</td>\n",
       "      <td>AA</td>\n",
       "      <td>1/14/2011</td>\n",
       "      <td>$16.71</td>\n",
       "      <td>$16.71</td>\n",
       "      <td>$15.64</td>\n",
       "      <td>$15.97</td>\n",
       "      <td>242963398</td>\n",
       "      <td>-4.42849</td>\n",
       "      <td>1.380223</td>\n",
       "      <td>239655616.0</td>\n",
       "      <td>$16.19</td>\n",
       "      <td>$15.79</td>\n",
       "      <td>-2.470660</td>\n",
       "      <td>19</td>\n",
       "      <td>0.187852</td>\n",
       "    </tr>\n",
       "    <tr>\n",
       "      <th>2</th>\n",
       "      <td>1</td>\n",
       "      <td>AA</td>\n",
       "      <td>1/21/2011</td>\n",
       "      <td>$16.19</td>\n",
       "      <td>$16.38</td>\n",
       "      <td>$15.60</td>\n",
       "      <td>$15.79</td>\n",
       "      <td>138428495</td>\n",
       "      <td>-2.47066</td>\n",
       "      <td>-43.024959</td>\n",
       "      <td>242963398.0</td>\n",
       "      <td>$15.87</td>\n",
       "      <td>$16.13</td>\n",
       "      <td>1.638310</td>\n",
       "      <td>12</td>\n",
       "      <td>0.189994</td>\n",
       "    </tr>\n",
       "    <tr>\n",
       "      <th>3</th>\n",
       "      <td>1</td>\n",
       "      <td>AA</td>\n",
       "      <td>1/28/2011</td>\n",
       "      <td>$15.87</td>\n",
       "      <td>$16.63</td>\n",
       "      <td>$15.82</td>\n",
       "      <td>$16.13</td>\n",
       "      <td>151379173</td>\n",
       "      <td>1.63831</td>\n",
       "      <td>9.355500</td>\n",
       "      <td>138428495.0</td>\n",
       "      <td>$16.18</td>\n",
       "      <td>$17.14</td>\n",
       "      <td>5.933250</td>\n",
       "      <td>5</td>\n",
       "      <td>0.185989</td>\n",
       "    </tr>\n",
       "    <tr>\n",
       "      <th>4</th>\n",
       "      <td>1</td>\n",
       "      <td>AA</td>\n",
       "      <td>2/4/2011</td>\n",
       "      <td>$16.18</td>\n",
       "      <td>$17.39</td>\n",
       "      <td>$16.18</td>\n",
       "      <td>$17.14</td>\n",
       "      <td>154387761</td>\n",
       "      <td>5.93325</td>\n",
       "      <td>1.987452</td>\n",
       "      <td>151379173.0</td>\n",
       "      <td>$17.33</td>\n",
       "      <td>$17.37</td>\n",
       "      <td>0.230814</td>\n",
       "      <td>97</td>\n",
       "      <td>0.175029</td>\n",
       "    </tr>\n",
       "    <tr>\n",
       "      <th>...</th>\n",
       "      <td>...</td>\n",
       "      <td>...</td>\n",
       "      <td>...</td>\n",
       "      <td>...</td>\n",
       "      <td>...</td>\n",
       "      <td>...</td>\n",
       "      <td>...</td>\n",
       "      <td>...</td>\n",
       "      <td>...</td>\n",
       "      <td>...</td>\n",
       "      <td>...</td>\n",
       "      <td>...</td>\n",
       "      <td>...</td>\n",
       "      <td>...</td>\n",
       "      <td>...</td>\n",
       "      <td>...</td>\n",
       "    </tr>\n",
       "    <tr>\n",
       "      <th>745</th>\n",
       "      <td>2</td>\n",
       "      <td>XOM</td>\n",
       "      <td>5/27/2011</td>\n",
       "      <td>$80.22</td>\n",
       "      <td>$82.63</td>\n",
       "      <td>$80.07</td>\n",
       "      <td>$82.63</td>\n",
       "      <td>68230855</td>\n",
       "      <td>3.00424</td>\n",
       "      <td>-21.355713</td>\n",
       "      <td>86758820.0</td>\n",
       "      <td>$83.28</td>\n",
       "      <td>$81.18</td>\n",
       "      <td>-2.521610</td>\n",
       "      <td>75</td>\n",
       "      <td>0.568801</td>\n",
       "    </tr>\n",
       "    <tr>\n",
       "      <th>746</th>\n",
       "      <td>2</td>\n",
       "      <td>XOM</td>\n",
       "      <td>6/3/2011</td>\n",
       "      <td>$83.28</td>\n",
       "      <td>$83.75</td>\n",
       "      <td>$80.18</td>\n",
       "      <td>$81.18</td>\n",
       "      <td>78616295</td>\n",
       "      <td>-2.52161</td>\n",
       "      <td>15.221032</td>\n",
       "      <td>68230855.0</td>\n",
       "      <td>$80.93</td>\n",
       "      <td>$79.78</td>\n",
       "      <td>-1.420980</td>\n",
       "      <td>68</td>\n",
       "      <td>0.578960</td>\n",
       "    </tr>\n",
       "    <tr>\n",
       "      <th>747</th>\n",
       "      <td>2</td>\n",
       "      <td>XOM</td>\n",
       "      <td>6/10/2011</td>\n",
       "      <td>$80.93</td>\n",
       "      <td>$81.87</td>\n",
       "      <td>$79.72</td>\n",
       "      <td>$79.78</td>\n",
       "      <td>92380844</td>\n",
       "      <td>-1.42098</td>\n",
       "      <td>17.508519</td>\n",
       "      <td>78616295.0</td>\n",
       "      <td>$80.00</td>\n",
       "      <td>$79.02</td>\n",
       "      <td>-1.225000</td>\n",
       "      <td>61</td>\n",
       "      <td>0.589120</td>\n",
       "    </tr>\n",
       "    <tr>\n",
       "      <th>748</th>\n",
       "      <td>2</td>\n",
       "      <td>XOM</td>\n",
       "      <td>6/17/2011</td>\n",
       "      <td>$80.00</td>\n",
       "      <td>$80.82</td>\n",
       "      <td>$78.33</td>\n",
       "      <td>$79.02</td>\n",
       "      <td>100521400</td>\n",
       "      <td>-1.22500</td>\n",
       "      <td>8.811952</td>\n",
       "      <td>92380844.0</td>\n",
       "      <td>$78.65</td>\n",
       "      <td>$76.78</td>\n",
       "      <td>-2.377620</td>\n",
       "      <td>54</td>\n",
       "      <td>0.594786</td>\n",
       "    </tr>\n",
       "    <tr>\n",
       "      <th>749</th>\n",
       "      <td>2</td>\n",
       "      <td>XOM</td>\n",
       "      <td>6/24/2011</td>\n",
       "      <td>$78.65</td>\n",
       "      <td>$81.12</td>\n",
       "      <td>$76.78</td>\n",
       "      <td>$76.78</td>\n",
       "      <td>118679791</td>\n",
       "      <td>-2.37762</td>\n",
       "      <td>18.064204</td>\n",
       "      <td>100521400.0</td>\n",
       "      <td>$76.88</td>\n",
       "      <td>$82.01</td>\n",
       "      <td>6.672740</td>\n",
       "      <td>47</td>\n",
       "      <td>0.612139</td>\n",
       "    </tr>\n",
       "  </tbody>\n",
       "</table>\n",
       "<p>750 rows × 16 columns</p>\n",
       "</div>"
      ],
      "text/plain": [
       "     quarter stock       date    open    high     low   close     volume  \\\n",
       "0          1    AA   1/7/2011  $15.82  $16.72  $15.78  $16.42  239655616   \n",
       "1          1    AA  1/14/2011  $16.71  $16.71  $15.64  $15.97  242963398   \n",
       "2          1    AA  1/21/2011  $16.19  $16.38  $15.60  $15.79  138428495   \n",
       "3          1    AA  1/28/2011  $15.87  $16.63  $15.82  $16.13  151379173   \n",
       "4          1    AA   2/4/2011  $16.18  $17.39  $16.18  $17.14  154387761   \n",
       "..       ...   ...        ...     ...     ...     ...     ...        ...   \n",
       "745        2   XOM  5/27/2011  $80.22  $82.63  $80.07  $82.63   68230855   \n",
       "746        2   XOM   6/3/2011  $83.28  $83.75  $80.18  $81.18   78616295   \n",
       "747        2   XOM  6/10/2011  $80.93  $81.87  $79.72  $79.78   92380844   \n",
       "748        2   XOM  6/17/2011  $80.00  $80.82  $78.33  $79.02  100521400   \n",
       "749        2   XOM  6/24/2011  $78.65  $81.12  $76.78  $76.78  118679791   \n",
       "\n",
       "     percent_change_price  percent_change_volume_over_last_wk  \\\n",
       "0                 3.79267                                 NaN   \n",
       "1                -4.42849                            1.380223   \n",
       "2                -2.47066                          -43.024959   \n",
       "3                 1.63831                            9.355500   \n",
       "4                 5.93325                            1.987452   \n",
       "..                    ...                                 ...   \n",
       "745               3.00424                          -21.355713   \n",
       "746              -2.52161                           15.221032   \n",
       "747              -1.42098                           17.508519   \n",
       "748              -1.22500                            8.811952   \n",
       "749              -2.37762                           18.064204   \n",
       "\n",
       "     previous_weeks_volume next_weeks_open next_weeks_close  \\\n",
       "0                      NaN          $16.71           $15.97   \n",
       "1              239655616.0          $16.19           $15.79   \n",
       "2              242963398.0          $15.87           $16.13   \n",
       "3              138428495.0          $16.18           $17.14   \n",
       "4              151379173.0          $17.33           $17.37   \n",
       "..                     ...             ...              ...   \n",
       "745             86758820.0          $83.28           $81.18   \n",
       "746             68230855.0          $80.93           $79.78   \n",
       "747             78616295.0          $80.00           $79.02   \n",
       "748             92380844.0          $78.65           $76.78   \n",
       "749            100521400.0          $76.88           $82.01   \n",
       "\n",
       "     percent_change_next_weeks_price  days_to_next_dividend  \\\n",
       "0                          -4.428490                     26   \n",
       "1                          -2.470660                     19   \n",
       "2                           1.638310                     12   \n",
       "3                           5.933250                      5   \n",
       "4                           0.230814                     97   \n",
       "..                               ...                    ...   \n",
       "745                        -2.521610                     75   \n",
       "746                        -1.420980                     68   \n",
       "747                        -1.225000                     61   \n",
       "748                        -2.377620                     54   \n",
       "749                         6.672740                     47   \n",
       "\n",
       "     percent_return_next_dividend  \n",
       "0                        0.182704  \n",
       "1                        0.187852  \n",
       "2                        0.189994  \n",
       "3                        0.185989  \n",
       "4                        0.175029  \n",
       "..                            ...  \n",
       "745                      0.568801  \n",
       "746                      0.578960  \n",
       "747                      0.589120  \n",
       "748                      0.594786  \n",
       "749                      0.612139  \n",
       "\n",
       "[750 rows x 16 columns]"
      ]
     },
     "execution_count": 38,
     "metadata": {},
     "output_type": "execute_result"
    }
   ],
   "source": [
    "dataDF"
   ]
  },
  {
   "cell_type": "code",
   "execution_count": 29,
   "metadata": {},
   "outputs": [
    {
     "data": {
      "text/plain": [
       "array(['AA', 'AXP', 'BA', 'BAC', 'CAT', 'CSCO', 'CVX', 'DD', 'DIS', 'GE',\n",
       "       'HD', 'HPQ', 'IBM', 'INTC', 'JNJ', 'JPM', 'KRFT', 'KO', 'MCD',\n",
       "       'MMM', 'MRK', 'MSFT', 'PFE', 'PG', 'T', 'TRV', 'UTX', 'VZ', 'WMT',\n",
       "       'XOM'], dtype=object)"
      ]
     },
     "execution_count": 29,
     "metadata": {},
     "output_type": "execute_result"
    }
   ],
   "source": [
    "dataDF['stock'].unique()"
   ]
  },
  {
   "cell_type": "code",
   "execution_count": 23,
   "metadata": {},
   "outputs": [
    {
     "data": {
      "text/plain": [
       "0      16.42\n",
       "1      15.97\n",
       "2      15.79\n",
       "3      16.13\n",
       "4      17.14\n",
       "       ...  \n",
       "745    82.63\n",
       "746    81.18\n",
       "747    79.78\n",
       "748    79.02\n",
       "749    76.78\n",
       "Name: close, Length: 750, dtype: object"
      ]
     },
     "execution_count": 23,
     "metadata": {},
     "output_type": "execute_result"
    }
   ],
   "source": [
    "dataDF['close']"
   ]
  },
  {
   "cell_type": "code",
   "execution_count": 40,
   "metadata": {},
   "outputs": [],
   "source": [
    "dataDF['close'] = dataDF['close'].replace({'\\$':''}, regex = True).astype(float)\n"
   ]
  },
  {
   "cell_type": "code",
   "execution_count": 30,
   "metadata": {},
   "outputs": [
    {
     "data": {
      "image/png": "[encoded data removed]",
      "text/plain": [
       "<Figure size 432x288 with 1 Axes>"
      ]
     },
     "metadata": {
      "needs_background": "light"
     },
     "output_type": "display_data"
    }
   ],
   "source": [
    "import pandas as pd\n",
    "import seaborn as sns\n",
    "import matplotlib.pyplot as plt\n",
    "%matplotlib inline\n",
    "\n",
    "# p_df = pd.DataFrame({\"class\": [1,1,2,2,1], \"a\": [2,3,2,3,2]})\n",
    "sns.kdeplot(dataDF.loc[dataDF.stock == \"AA\"]['close'],label='date');\n",
    "sns.kdeplot(dataDF.loc[dataDF.stock == \"AXP\"]['close'],label='date');\n",
    "\n",
    "# beautifying the labels\n",
    "plt.xlabel('value')\n",
    "plt.ylabel('density')\n",
    "plt.show()"
   ]
  },
  {
   "cell_type": "code",
   "execution_count": 25,
   "metadata": {},
   "outputs": [],
   "source": [
    "aaDF = dataDF.loc[dataDF['stock'] == 'AA']"
   ]
  },
  {
   "cell_type": "code",
   "execution_count": 34,
   "metadata": {},
   "outputs": [
    {
     "data": {
      "text/plain": [
       "<matplotlib.axes._subplots.AxesSubplot at 0x21ee0cb7f10>"
      ]
     },
     "execution_count": 34,
     "metadata": {},
     "output_type": "execute_result"
    },
    {
     "data": {
      "image/png": "[encoded data removed]",
      "text/plain": [
       "<Figure size 432x288 with 1 Axes>"
      ]
     },
     "metadata": {
      "needs_background": "light"
     },
     "output_type": "display_data"
    }
   ],
   "source": [
    "ax = plt.gca()\n",
    "y_name = 'percent_change_price'\n",
    "\n",
    "dataDF.loc[dataDF['stock'] == 'AA'].plot(x = 'date', y = y_name, ax = ax)\n",
    "dataDF.loc[dataDF['stock'] == 'AXP'].plot(x = 'date', y = y_name, color = 'red', ax = ax)\n",
    "dataDF.loc[dataDF['stock'] == 'IBM'].plot(x = 'date', y = y_name, color = 'green', ax = ax)"
   ]
  },
  {
   "cell_type": "code",
   "execution_count": 46,
   "metadata": {
    "scrolled": true
   },
   "outputs": [
    {
     "data": {
      "text/html": [
       "<div>\n",
       "<style scoped>\n",
       "    .dataframe tbody tr th:only-of-type {\n",
       "        vertical-align: middle;\n",
       "    }\n",
       "\n",
       "    .dataframe tbody tr th {\n",
       "        vertical-align: top;\n",
       "    }\n",
       "\n",
       "    .dataframe thead th {\n",
       "        text-align: right;\n",
       "    }\n",
       "</style>\n",
       "<table border=\"1\" class=\"dataframe\">\n",
       "  <thead>\n",
       "    <tr style=\"text-align: right;\">\n",
       "      <th></th>\n",
       "      <th>close</th>\n",
       "    </tr>\n",
       "    <tr>\n",
       "      <th>date</th>\n",
       "      <th></th>\n",
       "    </tr>\n",
       "  </thead>\n",
       "  <tbody>\n",
       "    <tr>\n",
       "      <th>1/7/2011</th>\n",
       "      <td>NaN</td>\n",
       "    </tr>\n",
       "    <tr>\n",
       "      <th>1/14/2011</th>\n",
       "      <td>NaN</td>\n",
       "    </tr>\n",
       "    <tr>\n",
       "      <th>1/21/2011</th>\n",
       "      <td>NaN</td>\n",
       "    </tr>\n",
       "    <tr>\n",
       "      <th>1/28/2011</th>\n",
       "      <td>NaN</td>\n",
       "    </tr>\n",
       "    <tr>\n",
       "      <th>2/4/2011</th>\n",
       "      <td>16.290</td>\n",
       "    </tr>\n",
       "    <tr>\n",
       "      <th>2/11/2011</th>\n",
       "      <td>16.480</td>\n",
       "    </tr>\n",
       "    <tr>\n",
       "      <th>2/18/2011</th>\n",
       "      <td>16.742</td>\n",
       "    </tr>\n",
       "    <tr>\n",
       "      <th>2/25/2011</th>\n",
       "      <td>16.920</td>\n",
       "    </tr>\n",
       "    <tr>\n",
       "      <th>3/4/2011</th>\n",
       "      <td>17.010</td>\n",
       "    </tr>\n",
       "    <tr>\n",
       "      <th>3/11/2011</th>\n",
       "      <td>16.788</td>\n",
       "    </tr>\n",
       "    <tr>\n",
       "      <th>3/18/2011</th>\n",
       "      <td>16.536</td>\n",
       "    </tr>\n",
       "    <tr>\n",
       "      <th>3/25/2011</th>\n",
       "      <td>16.498</td>\n",
       "    </tr>\n",
       "    <tr>\n",
       "      <th>4/1/2011</th>\n",
       "      <td>16.656</td>\n",
       "    </tr>\n",
       "    <tr>\n",
       "      <th>4/8/2011</th>\n",
       "      <td>16.924</td>\n",
       "    </tr>\n",
       "    <tr>\n",
       "      <th>4/15/2011</th>\n",
       "      <td>17.022</td>\n",
       "    </tr>\n",
       "    <tr>\n",
       "      <th>4/21/2011</th>\n",
       "      <td>17.194</td>\n",
       "    </tr>\n",
       "    <tr>\n",
       "      <th>4/29/2011</th>\n",
       "      <td>17.176</td>\n",
       "    </tr>\n",
       "    <tr>\n",
       "      <th>5/6/2011</th>\n",
       "      <td>17.112</td>\n",
       "    </tr>\n",
       "    <tr>\n",
       "      <th>5/13/2011</th>\n",
       "      <td>16.948</td>\n",
       "    </tr>\n",
       "    <tr>\n",
       "      <th>5/20/2011</th>\n",
       "      <td>16.896</td>\n",
       "    </tr>\n",
       "    <tr>\n",
       "      <th>5/27/2011</th>\n",
       "      <td>16.798</td>\n",
       "    </tr>\n",
       "    <tr>\n",
       "      <th>6/3/2011</th>\n",
       "      <td>16.582</td>\n",
       "    </tr>\n",
       "    <tr>\n",
       "      <th>6/10/2011</th>\n",
       "      <td>16.208</td>\n",
       "    </tr>\n",
       "    <tr>\n",
       "      <th>6/17/2011</th>\n",
       "      <td>15.732</td>\n",
       "    </tr>\n",
       "    <tr>\n",
       "      <th>6/24/2011</th>\n",
       "      <td>15.526</td>\n",
       "    </tr>\n",
       "  </tbody>\n",
       "</table>\n",
       "</div>"
      ],
      "text/plain": [
       "            close\n",
       "date             \n",
       "1/7/2011      NaN\n",
       "1/14/2011     NaN\n",
       "1/21/2011     NaN\n",
       "1/28/2011     NaN\n",
       "2/4/2011   16.290\n",
       "2/11/2011  16.480\n",
       "2/18/2011  16.742\n",
       "2/25/2011  16.920\n",
       "3/4/2011   17.010\n",
       "3/11/2011  16.788\n",
       "3/18/2011  16.536\n",
       "3/25/2011  16.498\n",
       "4/1/2011   16.656\n",
       "4/8/2011   16.924\n",
       "4/15/2011  17.022\n",
       "4/21/2011  17.194\n",
       "4/29/2011  17.176\n",
       "5/6/2011   17.112\n",
       "5/13/2011  16.948\n",
       "5/20/2011  16.896\n",
       "5/27/2011  16.798\n",
       "6/3/2011   16.582\n",
       "6/10/2011  16.208\n",
       "6/17/2011  15.732\n",
       "6/24/2011  15.526"
      ]
     },
     "execution_count": 46,
     "metadata": {},
     "output_type": "execute_result"
    }
   ],
   "source": [
    "df_close = dataDF.loc[dataDF['stock'] == 'AA'] #['date', 'close']\n",
    "df_close[['date', 'close']].set_index('date').rolling(5).mean()"
   ]
  },
  {
   "cell_type": "code",
   "execution_count": 49,
   "metadata": {},
   "outputs": [],
   "source": [
    "import os\n",
    "import warnings\n",
    "warnings.filterwarnings('ignore')\n",
    "import numpy as np\n",
    "import pandas as pd\n",
    "import matplotlib.pyplot as plt\n",
    "plt.style.use('fivethirtyeight')\n",
    "from pylab import rcParams\n",
    "rcParams['figure.figsize'] = 10, 6\n",
    "from statsmodels.tsa.stattools import adfuller\n",
    "from statsmodels.tsa.seasonal import seasonal_decompose\n",
    "from statsmodels.tsa.arima_model import ARIMA\n",
    "#from pmdarima.arima import auto_arima\n",
    "from sklearn.metrics import mean_squared_error, mean_absolute_error\n",
    "import math\n",
    "import numpy as np"
   ]
  },
  {
   "cell_type": "code",
   "execution_count": 52,
   "metadata": {
    "scrolled": true
   },
   "outputs": [
    {
     "data": {
      "image/png": "[encoded data removed]",
      "text/plain": [
       "<Figure size 720x432 with 1 Axes>"
      ]
     },
     "metadata": {},
     "output_type": "display_data"
    },
    {
     "name": "stdout",
     "output_type": "stream",
     "text": [
      "Results of dickey fuller test\n",
      "Test Statistics                -2.437197\n",
      "p-value                         0.131512\n",
      "No. of lags used                9.000000\n",
      "Number of observations used    15.000000\n",
      "critical value (1%)            -3.964443\n",
      "critical value (5%)            -3.084908\n",
      "critical value (10%)           -2.681814\n",
      "dtype: float64\n"
     ]
    }
   ],
   "source": [
    "#Test for stationarity\n",
    "def test_stationarity(timeseries):\n",
    "    #Determing rolling statistics\n",
    "    rolmean = timeseries.rolling(5).mean()\n",
    "    rolstd = timeseries.rolling(5).std()\n",
    "    #Plot rolling statistics:\n",
    "    plt.plot(timeseries, color='blue',label='Original')\n",
    "    plt.plot(rolmean, color='red', label='Rolling Mean')\n",
    "    plt.plot(rolstd, color='black', label = 'Rolling Std')\n",
    "    plt.legend(loc='best')\n",
    "    plt.title('Rolling Mean and Standard Deviation')\n",
    "    plt.show(block=False)\n",
    "    \n",
    "    print(\"Results of dickey fuller test\")\n",
    "    adft = adfuller(timeseries,autolag='AIC')\n",
    "    # output for dft will give us without defining what the values are.\n",
    "    #hence we manually write what values does it explains using a for loop\n",
    "    output = pd.Series(adft[0:4],index=['Test Statistics','p-value','No. of lags used','Number of observations used'])\n",
    "    for key,values in adft[4].items():\n",
    "        output['critical value (%s)'%key] =  values\n",
    "    print(output)\n",
    "    \n",
    "df_close = dataDF.loc[dataDF['stock'] == 'AA'][['date', 'close']].set_index('date')\n",
    "test_stationarity(df_close)"
   ]
  },
  {
   "cell_type": "code",
   "execution_count": 53,
   "metadata": {},
   "outputs": [],
   "source": [
    "from statsmodels.tsa.stattools import adfuller\n",
    "from statsmodels.tsa.seasonal import seasonal_decompose\n",
    "from statsmodels.tsa.arima_model import ARIMA"
   ]
  },
  {
   "cell_type": "code",
   "execution_count": 57,
   "metadata": {},
   "outputs": [],
   "source": [
    "df_close = dataDF.loc[dataDF['stock'] == 'AA'][['date', 'close']].set_index('date')\n",
    "df_log = np.log(df_close)"
   ]
  },
  {
   "cell_type": "code",
   "execution_count": 66,
   "metadata": {},
   "outputs": [],
   "source": [
    "train_data, test_data = df_log[3:int(len(df_log)*0.9)], df_log[int(len(df_log)*0.9):]"
   ]
  },
  {
   "cell_type": "code",
   "execution_count": 67,
   "metadata": {},
   "outputs": [
    {
     "data": {
      "text/html": [
       "<div>\n",
       "<style scoped>\n",
       "    .dataframe tbody tr th:only-of-type {\n",
       "        vertical-align: middle;\n",
       "    }\n",
       "\n",
       "    .dataframe tbody tr th {\n",
       "        vertical-align: top;\n",
       "    }\n",
       "\n",
       "    .dataframe thead th {\n",
       "        text-align: right;\n",
       "    }\n",
       "</style>\n",
       "<table border=\"1\" class=\"dataframe\">\n",
       "  <thead>\n",
       "    <tr style=\"text-align: right;\">\n",
       "      <th></th>\n",
       "      <th>close</th>\n",
       "    </tr>\n",
       "    <tr>\n",
       "      <th>date</th>\n",
       "      <th></th>\n",
       "    </tr>\n",
       "  </thead>\n",
       "  <tbody>\n",
       "    <tr>\n",
       "      <th>6/10/2011</th>\n",
       "      <td>2.726545</td>\n",
       "    </tr>\n",
       "    <tr>\n",
       "      <th>6/17/2011</th>\n",
       "      <td>2.689207</td>\n",
       "    </tr>\n",
       "    <tr>\n",
       "      <th>6/24/2011</th>\n",
       "      <td>2.723267</td>\n",
       "    </tr>\n",
       "  </tbody>\n",
       "</table>\n",
       "</div>"
      ],
      "text/plain": [
       "              close\n",
       "date               \n",
       "6/10/2011  2.726545\n",
       "6/17/2011  2.689207\n",
       "6/24/2011  2.723267"
      ]
     },
     "execution_count": 67,
     "metadata": {},
     "output_type": "execute_result"
    }
   ],
   "source": [
    "test_data"
   ]
  },
  {
   "cell_type": "code",
   "execution_count": 68,
   "metadata": {},
   "outputs": [
    {
     "name": "stdout",
     "output_type": "stream",
     "text": [
      "                             ARIMA Model Results                              \n",
      "==============================================================================\n",
      "Dep. Variable:                D.close   No. Observations:                   18\n",
      "Model:                 ARIMA(3, 1, 2)   Log Likelihood                  38.074\n",
      "Method:                       css-mle   S.D. of innovations              0.026\n",
      "Date:                Mon, 03 Aug 2020   AIC                            -62.148\n",
      "Time:                        04:53:01   BIC                            -55.916\n",
      "Sample:                             1   HQIC                           -61.289\n",
      "                                                                              \n",
      "=================================================================================\n",
      "                    coef    std err          z      P>|z|      [0.025      0.975]\n",
      "---------------------------------------------------------------------------------\n",
      "const          5.182e-06      0.001      0.004      0.997      -0.002       0.002\n",
      "ar.L1.D.close     0.3533      0.375      0.941      0.347      -0.382       1.089\n",
      "ar.L2.D.close     0.0260      0.285      0.091      0.927      -0.533       0.585\n",
      "ar.L3.D.close    -0.4907      0.238     -2.063      0.039      -0.957      -0.025\n",
      "ma.L1.D.close    -0.9648      0.464     -2.080      0.038      -1.874      -0.056\n",
      "ma.L2.D.close    -0.0352      0.400     -0.088      0.930      -0.819       0.748\n",
      "                                    Roots                                    \n",
      "=============================================================================\n",
      "                  Real          Imaginary           Modulus         Frequency\n",
      "-----------------------------------------------------------------------------\n",
      "AR.1            0.7446           -0.9298j            1.1912           -0.1425\n",
      "AR.2            0.7446           +0.9298j            1.1912            0.1425\n",
      "AR.3           -1.4363           -0.0000j            1.4363           -0.5000\n",
      "MA.1            1.0000           +0.0000j            1.0000            0.0000\n",
      "MA.2          -28.3988           +0.0000j           28.3988            0.5000\n",
      "-----------------------------------------------------------------------------\n"
     ]
    }
   ],
   "source": [
    "model = ARIMA(train_data, order=(3, 1, 2))  \n",
    "fitted = model.fit(disp=-1)  \n",
    "print(fitted.summary())"
   ]
  },
  {
   "cell_type": "code",
   "execution_count": 16,
   "metadata": {},
   "outputs": [
    {
     "data": {
      "text/plain": [
       "<matplotlib.axes._subplots.AxesSubplot at 0x21eddfccb80>"
      ]
     },
     "execution_count": 16,
     "metadata": {},
     "output_type": "execute_result"
    },
    {
     "data": {
      "image/png": "[encoded data removed]",
      "text/plain": [
       "<Figure size 432x288 with 1 Axes>"
      ]
     },
     "metadata": {
      "needs_background": "light"
     },
     "output_type": "display_data"
    }
   ],
   "source": [
    "aaDF.plot(x = 'date', y = 'percent_change_price')"
   ]
  },
  {
   "cell_type": "code",
   "execution_count": 12,
   "metadata": {},
   "outputs": [
    {
     "data": {
      "text/plain": [
       "quarter                                 int64\n",
       "stock                                  object\n",
       "date                                   object\n",
       "open                                   object\n",
       "high                                   object\n",
       "low                                    object\n",
       "close                                  object\n",
       "volume                                  int64\n",
       "percent_change_price                  float64\n",
       "percent_change_volume_over_last_wk    float64\n",
       "previous_weeks_volume                 float64\n",
       "next_weeks_open                        object\n",
       "next_weeks_close                       object\n",
       "percent_change_next_weeks_price       float64\n",
       "days_to_next_dividend                   int64\n",
       "percent_return_next_dividend          float64\n",
       "dtype: object"
      ]
     },
     "execution_count": 12,
     "metadata": {},
     "output_type": "execute_result"
    }
   ],
   "source": [
    "dataDF.dtypes"
   ]
  },
  {
   "cell_type": "code",
   "execution_count": null,
   "metadata": {},
   "outputs": [],
   "source": []
  }
 ],
 "metadata": {
  "kernelspec": {
   "display_name": "Python 3",
   "language": "python",
   "name": "python3"
  },
  "language_info": {
   "codemirror_mode": {
    "name": "ipython",
    "version": 3
   },
   "file_extension": ".py",
   "mimetype": "text/x-python",
   "name": "python",
   "nbconvert_exporter": "python",
   "pygments_lexer": "ipython3",
   "version": "3.8.3"
  }
 },
 "nbformat": 4,
 "nbformat_minor": 4
}
